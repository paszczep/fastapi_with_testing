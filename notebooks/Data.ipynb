{
 "cells": [
  {
   "cell_type": "code",
   "execution_count": 1,
   "metadata": {},
   "outputs": [],
   "source": [
    "import pandas as pd\n",
    "from pandas import DataFrame\n",
    "from pathlib import Path\n",
    "import os"
   ]
  },
  {
   "cell_type": "code",
   "execution_count": 20,
   "metadata": {},
   "outputs": [],
   "source": [
    "parent_dir = os.path.abspath('..')"
   ]
  },
  {
   "cell_type": "code",
   "execution_count": 25,
   "metadata": {},
   "outputs": [],
   "source": [
    "data_dir = os.path.join(parent_dir, 'data')\n",
    "\n",
    "files = [file for file in os.listdir(data_dir)]"
   ]
  },
  {
   "cell_type": "markdown",
   "metadata": {},
   "source": [
    "### RENAMING FILES TO NONSENSE"
   ]
  },
  {
   "cell_type": "code",
   "execution_count": 26,
   "metadata": {},
   "outputs": [],
   "source": [
    "rename_dict = {\n",
    "    'EUR': 'SPAM', \n",
    "    'USD': 'BACON', \n",
    "    'GBP': 'SAUSAGE', \n",
    "    'AUD': 'EGG', \n",
    "    'CAD': 'SPAMSPAM',\n",
    "    'CHF': 'BEANS',\n",
    "    'JPY': 'TOMATO',\n",
    "}"
   ]
  },
  {
   "cell_type": "code",
   "execution_count": 27,
   "metadata": {},
   "outputs": [],
   "source": [
    "for key, value in rename_dict.items():\n",
    "    for file in files:\n",
    "        file = Path(file)\n",
    "        if key in file.stem:\n",
    "            new_name = data_dir / str(file.name).replace(key, value)\n",
    "            file.rename(new_name)"
   ]
  },
  {
   "cell_type": "markdown",
   "metadata": {},
   "source": [
    "###  Exploring data"
   ]
  },
  {
   "cell_type": "code",
   "execution_count": 14,
   "metadata": {},
   "outputs": [],
   "source": [
    "index_col = 'Date'\n",
    "col_names = ['Open', 'High', 'Low', 'Close', 'Volume', 'Transactions']"
   ]
  },
  {
   "cell_type": "code",
   "execution_count": 15,
   "metadata": {},
   "outputs": [],
   "source": [
    "select_files = [file for file in files if '1440' in file.name] "
   ]
  },
  {
   "cell_type": "code",
   "execution_count": 16,
   "metadata": {},
   "outputs": [],
   "source": [
    "df = pd.read_csv(select_files[0], parse_dates=True, index_col=[0], header=None)\n",
    "df.index = pd.to_datetime(df.index, unit='s')\n",
    "df.index.names = [index_col]\n",
    "df.columns = col_names"
   ]
  },
  {
   "cell_type": "code",
   "execution_count": 17,
   "metadata": {},
   "outputs": [
    {
     "data": {
      "text/html": [
       "<div>\n",
       "<style scoped>\n",
       "    .dataframe tbody tr th:only-of-type {\n",
       "        vertical-align: middle;\n",
       "    }\n",
       "\n",
       "    .dataframe tbody tr th {\n",
       "        vertical-align: top;\n",
       "    }\n",
       "\n",
       "    .dataframe thead th {\n",
       "        text-align: right;\n",
       "    }\n",
       "</style>\n",
       "<table border=\"1\" class=\"dataframe\">\n",
       "  <thead>\n",
       "    <tr style=\"text-align: right;\">\n",
       "      <th></th>\n",
       "      <th>Open</th>\n",
       "      <th>High</th>\n",
       "      <th>Low</th>\n",
       "      <th>Close</th>\n",
       "      <th>Volume</th>\n",
       "      <th>Transactions</th>\n",
       "    </tr>\n",
       "    <tr>\n",
       "      <th>Date</th>\n",
       "      <th></th>\n",
       "      <th></th>\n",
       "      <th></th>\n",
       "      <th></th>\n",
       "      <th></th>\n",
       "      <th></th>\n",
       "    </tr>\n",
       "  </thead>\n",
       "  <tbody>\n",
       "    <tr>\n",
       "      <th>2020-03-12</th>\n",
       "      <td>1.50000</td>\n",
       "      <td>1.50000</td>\n",
       "      <td>1.05000</td>\n",
       "      <td>1.09961</td>\n",
       "      <td>4.156492e+05</td>\n",
       "      <td>1842</td>\n",
       "    </tr>\n",
       "    <tr>\n",
       "      <th>2020-03-13</th>\n",
       "      <td>1.11549</td>\n",
       "      <td>1.19800</td>\n",
       "      <td>1.01000</td>\n",
       "      <td>1.10987</td>\n",
       "      <td>3.653842e+06</td>\n",
       "      <td>10957</td>\n",
       "    </tr>\n",
       "    <tr>\n",
       "      <th>2020-03-14</th>\n",
       "      <td>1.10987</td>\n",
       "      <td>1.11770</td>\n",
       "      <td>1.09220</td>\n",
       "      <td>1.10538</td>\n",
       "      <td>3.818256e+05</td>\n",
       "      <td>1223</td>\n",
       "    </tr>\n",
       "    <tr>\n",
       "      <th>2020-03-15</th>\n",
       "      <td>1.10222</td>\n",
       "      <td>1.11723</td>\n",
       "      <td>1.09336</td>\n",
       "      <td>1.10726</td>\n",
       "      <td>1.172658e+06</td>\n",
       "      <td>2609</td>\n",
       "    </tr>\n",
       "    <tr>\n",
       "      <th>2020-03-16</th>\n",
       "      <td>1.10762</td>\n",
       "      <td>1.13700</td>\n",
       "      <td>1.10000</td>\n",
       "      <td>1.11494</td>\n",
       "      <td>1.553507e+06</td>\n",
       "      <td>4483</td>\n",
       "    </tr>\n",
       "    <tr>\n",
       "      <th>...</th>\n",
       "      <td>...</td>\n",
       "      <td>...</td>\n",
       "      <td>...</td>\n",
       "      <td>...</td>\n",
       "      <td>...</td>\n",
       "      <td>...</td>\n",
       "    </tr>\n",
       "    <tr>\n",
       "      <th>2022-06-26</th>\n",
       "      <td>1.05458</td>\n",
       "      <td>1.05706</td>\n",
       "      <td>1.05341</td>\n",
       "      <td>1.05640</td>\n",
       "      <td>2.646986e+06</td>\n",
       "      <td>7400</td>\n",
       "    </tr>\n",
       "    <tr>\n",
       "      <th>2022-06-27</th>\n",
       "      <td>1.05640</td>\n",
       "      <td>1.06108</td>\n",
       "      <td>1.05513</td>\n",
       "      <td>1.05818</td>\n",
       "      <td>1.437369e+07</td>\n",
       "      <td>19516</td>\n",
       "    </tr>\n",
       "    <tr>\n",
       "      <th>2022-06-28</th>\n",
       "      <td>1.05818</td>\n",
       "      <td>1.06079</td>\n",
       "      <td>1.05029</td>\n",
       "      <td>1.05241</td>\n",
       "      <td>6.897574e+06</td>\n",
       "      <td>11475</td>\n",
       "    </tr>\n",
       "    <tr>\n",
       "      <th>2022-06-29</th>\n",
       "      <td>1.05222</td>\n",
       "      <td>1.05391</td>\n",
       "      <td>1.04357</td>\n",
       "      <td>1.04530</td>\n",
       "      <td>1.267990e+07</td>\n",
       "      <td>23585</td>\n",
       "    </tr>\n",
       "    <tr>\n",
       "      <th>2022-06-30</th>\n",
       "      <td>1.04515</td>\n",
       "      <td>1.06490</td>\n",
       "      <td>1.03851</td>\n",
       "      <td>1.04740</td>\n",
       "      <td>1.990031e+07</td>\n",
       "      <td>21162</td>\n",
       "    </tr>\n",
       "  </tbody>\n",
       "</table>\n",
       "<p>841 rows × 6 columns</p>\n",
       "</div>"
      ],
      "text/plain": [
       "               Open     High      Low    Close        Volume  Transactions\n",
       "Date                                                                      \n",
       "2020-03-12  1.50000  1.50000  1.05000  1.09961  4.156492e+05          1842\n",
       "2020-03-13  1.11549  1.19800  1.01000  1.10987  3.653842e+06         10957\n",
       "2020-03-14  1.10987  1.11770  1.09220  1.10538  3.818256e+05          1223\n",
       "2020-03-15  1.10222  1.11723  1.09336  1.10726  1.172658e+06          2609\n",
       "2020-03-16  1.10762  1.13700  1.10000  1.11494  1.553507e+06          4483\n",
       "...             ...      ...      ...      ...           ...           ...\n",
       "2022-06-26  1.05458  1.05706  1.05341  1.05640  2.646986e+06          7400\n",
       "2022-06-27  1.05640  1.06108  1.05513  1.05818  1.437369e+07         19516\n",
       "2022-06-28  1.05818  1.06079  1.05029  1.05241  6.897574e+06         11475\n",
       "2022-06-29  1.05222  1.05391  1.04357  1.04530  1.267990e+07         23585\n",
       "2022-06-30  1.04515  1.06490  1.03851  1.04740  1.990031e+07         21162\n",
       "\n",
       "[841 rows x 6 columns]"
      ]
     },
     "execution_count": 17,
     "metadata": {},
     "output_type": "execute_result"
    }
   ],
   "source": [
    "df"
   ]
  },
  {
   "cell_type": "code",
   "execution_count": null,
   "metadata": {},
   "outputs": [],
   "source": []
  }
 ],
 "metadata": {
  "kernelspec": {
   "display_name": "Python 3",
   "language": "python",
   "name": "python3"
  },
  "language_info": {
   "codemirror_mode": {
    "name": "ipython",
    "version": 3
   },
   "file_extension": ".py",
   "mimetype": "text/x-python",
   "name": "python",
   "nbconvert_exporter": "python",
   "pygments_lexer": "ipython3",
   "version": "3.8.3"
  }
 },
 "nbformat": 4,
 "nbformat_minor": 4
}
